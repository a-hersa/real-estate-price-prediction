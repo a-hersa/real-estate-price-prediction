{
 "cells": [
  {
   "attachments": {},
   "cell_type": "markdown",
   "metadata": {},
   "source": [
    "## Model Training"
   ]
  },
  {
   "cell_type": "code",
   "execution_count": 10,
   "metadata": {},
   "outputs": [],
   "source": [
    "import pandas as pd\n",
    "import numpy as np\n",
    "# Handling missing values and feature scaling\n",
    "from sklearn.impute import SimpleImputer\n",
    "from sklearn.preprocessing import StandardScaler\n",
    "from sklearn.preprocessing import OneHotEncoder\n",
    "\n",
    "# pipelines\n",
    "from sklearn.pipeline import Pipeline\n",
    "from sklearn.compose import ColumnTransformer"
   ]
  },
  {
   "cell_type": "code",
   "execution_count": 11,
   "metadata": {},
   "outputs": [
    {
     "data": {
      "text/html": [
       "<div>\n",
       "<style scoped>\n",
       "    .dataframe tbody tr th:only-of-type {\n",
       "        vertical-align: middle;\n",
       "    }\n",
       "\n",
       "    .dataframe tbody tr th {\n",
       "        vertical-align: top;\n",
       "    }\n",
       "\n",
       "    .dataframe thead th {\n",
       "        text-align: right;\n",
       "    }\n",
       "</style>\n",
       "<table border=\"1\" class=\"dataframe\">\n",
       "  <thead>\n",
       "    <tr style=\"text-align: right;\">\n",
       "      <th></th>\n",
       "      <th>id</th>\n",
       "      <th>time</th>\n",
       "      <th>province</th>\n",
       "      <th>county</th>\n",
       "      <th>city</th>\n",
       "      <th>area</th>\n",
       "      <th>neighborhood</th>\n",
       "      <th>title</th>\n",
       "      <th>type</th>\n",
       "      <th>price</th>\n",
       "      <th>parking</th>\n",
       "      <th>rooms</th>\n",
       "      <th>sqrm</th>\n",
       "      <th>floor</th>\n",
       "      <th>surface</th>\n",
       "      <th>elevator</th>\n",
       "      <th>tag</th>\n",
       "      <th>img</th>\n",
       "      <th>url</th>\n",
       "    </tr>\n",
       "  </thead>\n",
       "  <tbody>\n",
       "    <tr>\n",
       "      <th>0</th>\n",
       "      <td>99006221</td>\n",
       "      <td>2023-04-01</td>\n",
       "      <td>Barcelona</td>\n",
       "      <td>Maresme</td>\n",
       "      <td>Arenys de Munt</td>\n",
       "      <td>NaN</td>\n",
       "      <td>NaN</td>\n",
       "      <td>Chalet en Arenys de Munt</td>\n",
       "      <td>venta</td>\n",
       "      <td>360000</td>\n",
       "      <td>1</td>\n",
       "      <td>3.0</td>\n",
       "      <td>182</td>\n",
       "      <td>NaN</td>\n",
       "      <td>NaN</td>\n",
       "      <td>NaN</td>\n",
       "      <td>NaN</td>\n",
       "      <td>https://img3.idealista.com/blur/WEB_LISTING-M/...</td>\n",
       "      <td>https://www.idealista.com/inmueble/99006221/</td>\n",
       "    </tr>\n",
       "    <tr>\n",
       "      <th>1</th>\n",
       "      <td>100404805</td>\n",
       "      <td>2023-04-01</td>\n",
       "      <td>Barcelona</td>\n",
       "      <td>Maresme</td>\n",
       "      <td>Arenys de Munt</td>\n",
       "      <td>NaN</td>\n",
       "      <td>NaN</td>\n",
       "      <td>Casa o chalet independiente en Arenys de Munt</td>\n",
       "      <td>venta</td>\n",
       "      <td>570000</td>\n",
       "      <td>0</td>\n",
       "      <td>5.0</td>\n",
       "      <td>266</td>\n",
       "      <td>NaN</td>\n",
       "      <td>NaN</td>\n",
       "      <td>NaN</td>\n",
       "      <td>NaN</td>\n",
       "      <td>https://img3.idealista.com/blur/WEB_LISTING-M/...</td>\n",
       "      <td>https://www.idealista.com/inmueble/100404805/</td>\n",
       "    </tr>\n",
       "    <tr>\n",
       "      <th>2</th>\n",
       "      <td>84948994</td>\n",
       "      <td>2023-04-01</td>\n",
       "      <td>Barcelona</td>\n",
       "      <td>Maresme</td>\n",
       "      <td>Arenys de Munt</td>\n",
       "      <td>NaN</td>\n",
       "      <td>NaN</td>\n",
       "      <td>Chalet en riera i Penya, Arenys de Munt</td>\n",
       "      <td>venta</td>\n",
       "      <td>220000</td>\n",
       "      <td>0</td>\n",
       "      <td>8.0</td>\n",
       "      <td>320</td>\n",
       "      <td>NaN</td>\n",
       "      <td>NaN</td>\n",
       "      <td>NaN</td>\n",
       "      <td>NaN</td>\n",
       "      <td>https://img3.idealista.com/blur/WEB_LISTING-M/...</td>\n",
       "      <td>https://www.idealista.com/inmueble/84948994/</td>\n",
       "    </tr>\n",
       "    <tr>\n",
       "      <th>3</th>\n",
       "      <td>92395817</td>\n",
       "      <td>2023-04-01</td>\n",
       "      <td>Barcelona</td>\n",
       "      <td>Maresme</td>\n",
       "      <td>Arenys de Munt</td>\n",
       "      <td>NaN</td>\n",
       "      <td>NaN</td>\n",
       "      <td>Casa o chalet independiente en Urbanització Co...</td>\n",
       "      <td>venta</td>\n",
       "      <td>495000</td>\n",
       "      <td>1</td>\n",
       "      <td>6.0</td>\n",
       "      <td>199</td>\n",
       "      <td>NaN</td>\n",
       "      <td>NaN</td>\n",
       "      <td>NaN</td>\n",
       "      <td>NaN</td>\n",
       "      <td>https://img3.idealista.com/blur/WEB_LISTING-M/...</td>\n",
       "      <td>https://www.idealista.com/inmueble/92395817/</td>\n",
       "    </tr>\n",
       "    <tr>\n",
       "      <th>4</th>\n",
       "      <td>95768293</td>\n",
       "      <td>2023-04-01</td>\n",
       "      <td>Barcelona</td>\n",
       "      <td>Maresme</td>\n",
       "      <td>Arenys de Munt</td>\n",
       "      <td>NaN</td>\n",
       "      <td>NaN</td>\n",
       "      <td>Chalet en Arenys de Munt</td>\n",
       "      <td>venta</td>\n",
       "      <td>575000</td>\n",
       "      <td>1</td>\n",
       "      <td>5.0</td>\n",
       "      <td>202</td>\n",
       "      <td>NaN</td>\n",
       "      <td>NaN</td>\n",
       "      <td>NaN</td>\n",
       "      <td>Lujo</td>\n",
       "      <td>https://img3.idealista.com/blur/WEB_LISTING-M/...</td>\n",
       "      <td>https://www.idealista.com/inmueble/95768293/</td>\n",
       "    </tr>\n",
       "  </tbody>\n",
       "</table>\n",
       "</div>"
      ],
      "text/plain": [
       "          id        time   province   county            city area   \n",
       "0   99006221  2023-04-01  Barcelona  Maresme  Arenys de Munt  NaN  \\\n",
       "1  100404805  2023-04-01  Barcelona  Maresme  Arenys de Munt  NaN   \n",
       "2   84948994  2023-04-01  Barcelona  Maresme  Arenys de Munt  NaN   \n",
       "3   92395817  2023-04-01  Barcelona  Maresme  Arenys de Munt  NaN   \n",
       "4   95768293  2023-04-01  Barcelona  Maresme  Arenys de Munt  NaN   \n",
       "\n",
       "  neighborhood                                              title   type   \n",
       "0          NaN                           Chalet en Arenys de Munt  venta  \\\n",
       "1          NaN      Casa o chalet independiente en Arenys de Munt  venta   \n",
       "2          NaN            Chalet en riera i Penya, Arenys de Munt  venta   \n",
       "3          NaN  Casa o chalet independiente en Urbanització Co...  venta   \n",
       "4          NaN                           Chalet en Arenys de Munt  venta   \n",
       "\n",
       "    price  parking  rooms sqrm floor surface  elevator   tag   \n",
       "0  360000        1    3.0  182   NaN     NaN       NaN   NaN  \\\n",
       "1  570000        0    5.0  266   NaN     NaN       NaN   NaN   \n",
       "2  220000        0    8.0  320   NaN     NaN       NaN   NaN   \n",
       "3  495000        1    6.0  199   NaN     NaN       NaN   NaN   \n",
       "4  575000        1    5.0  202   NaN     NaN       NaN  Lujo   \n",
       "\n",
       "                                                 img   \n",
       "0  https://img3.idealista.com/blur/WEB_LISTING-M/...  \\\n",
       "1  https://img3.idealista.com/blur/WEB_LISTING-M/...   \n",
       "2  https://img3.idealista.com/blur/WEB_LISTING-M/...   \n",
       "3  https://img3.idealista.com/blur/WEB_LISTING-M/...   \n",
       "4  https://img3.idealista.com/blur/WEB_LISTING-M/...   \n",
       "\n",
       "                                             url  \n",
       "0   https://www.idealista.com/inmueble/99006221/  \n",
       "1  https://www.idealista.com/inmueble/100404805/  \n",
       "2   https://www.idealista.com/inmueble/84948994/  \n",
       "3   https://www.idealista.com/inmueble/92395817/  \n",
       "4   https://www.idealista.com/inmueble/95768293/  "
      ]
     },
     "execution_count": 11,
     "metadata": {},
     "output_type": "execute_result"
    }
   ],
   "source": [
    "df = pd.read_csv('data/2023_04-data-maresme.csv')\n",
    "df.head()"
   ]
  },
  {
   "cell_type": "code",
   "execution_count": 12,
   "metadata": {},
   "outputs": [],
   "source": [
    "# Copy paste the data cleaning code from the EDA notebook\n",
    "df['rooms'].fillna(value=df['rooms'].mean(), inplace=True)\n",
    "df['rooms'] = df['rooms'].astype(int)\n",
    "df['sqrm'] = df['sqrm'].replace('[^0-9]', '', regex=True)\n",
    "df['sqrm'] = df['sqrm'].replace('', np.nan)\n",
    "df['sqrm'] = df['sqrm'].astype(float)\n",
    "df['sqrm'].fillna(value=df['sqrm'].mean())\n",
    "df['sqrm'] = df['sqrm'].replace(np.nan, df['sqrm'].mean())\n",
    "df['sqrm'] = df['sqrm'].astype(int)\n",
    "df['floor'] = df['floor'].replace('-', '-1')\n",
    "df['floor']=df['floor'].fillna('0')\n",
    "df['floor'] = df['floor'].astype(int)\n",
    "df['elevator'] = df['elevator'].fillna(0)\n",
    "df['elevator'] = df['elevator'].astype(int)\n",
    "df['property_type'] = [x.split()[0] for x in df['title']]\n",
    "df['property_type'].value_counts()\n",
    "df['province'] = df['province'].fillna('empty')\n",
    "df['county'] = df['county'].fillna('empty')\n",
    "df['city'] = df['city'].fillna('empty')\n",
    "df['area'] = df['area'].fillna('empty')\n",
    "df['neighborhood'] = df['neighborhood'].fillna('empty')\n",
    "df['location'] = df['province'] + '-' + df['county'] + '-' + df['city'] + '-' + df['area'] + '-' + df['neighborhood']\n",
    "df=df.drop(labels=['id', 'time', 'province', 'county', 'area', 'city', 'neighborhood', 'title', 'img', 'url', 'surface', 'tag'], axis=1)\n",
    "df.rename(columns={'type': 'deal_type'}, inplace=True)\n",
    "df=df.drop_duplicates()"
   ]
  },
  {
   "cell_type": "code",
   "execution_count": 13,
   "metadata": {},
   "outputs": [],
   "source": [
    "# df for rent and another one for sale\n",
    "df_venta = df[df['deal_type']=='venta']\n",
    "df_alquiler = df[df['deal_type']=='alquiler']"
   ]
  },
  {
   "cell_type": "code",
   "execution_count": 14,
   "metadata": {},
   "outputs": [],
   "source": [
    "# independent and dependent features for rent\n",
    "X_alquiler = df_alquiler.drop(labels=['price'], axis=1)\n",
    "Y_alquiler = df_alquiler[['price']]"
   ]
  },
  {
   "cell_type": "code",
   "execution_count": 15,
   "metadata": {},
   "outputs": [],
   "source": [
    "# Define which columns should be ordinal-encoded and which shuould be scaled\n",
    "categorical_cols = X_alquiler.select_dtypes(include='object').columns\n",
    "numerical_cols = X_alquiler.select_dtypes(exclude='object').columns"
   ]
  },
  {
   "cell_type": "code",
   "execution_count": 16,
   "metadata": {},
   "outputs": [
    {
     "data": {
      "text/plain": [
       "Index(['parking', 'rooms', 'sqrm', 'floor', 'elevator'], dtype='object')"
      ]
     },
     "execution_count": 16,
     "metadata": {},
     "output_type": "execute_result"
    }
   ],
   "source": [
    "numerical_cols"
   ]
  },
  {
   "cell_type": "code",
   "execution_count": 17,
   "metadata": {},
   "outputs": [
    {
     "data": {
      "text/plain": [
       "Index(['deal_type', 'property_type', 'location'], dtype='object')"
      ]
     },
     "execution_count": 17,
     "metadata": {},
     "output_type": "execute_result"
    }
   ],
   "source": [
    "categorical_cols"
   ]
  },
  {
   "cell_type": "code",
   "execution_count": 17,
   "metadata": {},
   "outputs": [],
   "source": [
    "# Handling missing values and feature scaling\n",
    "from sklearn.impute import SimpleImputer\n",
    "from sklearn.preprocessing import StandardScaler\n",
    "from sklearn.preprocessing import OneHotEncoder\n",
    "\n",
    "# pipelines\n",
    "from sklearn.pipeline import Pipeline\n",
    "from sklearn.compose import ColumnTransformer"
   ]
  },
  {
   "cell_type": "code",
   "execution_count": null,
   "metadata": {},
   "outputs": [],
   "source": [
    "## Numerical pipline that handles missing values and scaling\n",
    "num_pipeline = Pipeline(\n",
    "    steps=[\n",
    "    ('imputer', SimpleImputer(strategy='median')),\n",
    "    ('scaler', StandardScaler())\n",
    "    ]\n",
    ")\n",
    "\n",
    "# Categorical Pipeline\n",
    "\n",
    "cat_pipeline = Pipeline(\n",
    "    steps=[\n",
    "        ('imputer', SimpleImputer(strategy='most_frequent')),\n",
    "        ('onehotencoder', OneHotEncoder())\n",
    "    ]\n",
    ")"
   ]
  },
  {
   "cell_type": "code",
   "execution_count": null,
   "metadata": {},
   "outputs": [],
   "source": [
    "# Eliminar fincas"
   ]
  },
  {
   "cell_type": "code",
   "execution_count": null,
   "metadata": {},
   "outputs": [],
   "source": []
  },
  {
   "cell_type": "code",
   "execution_count": null,
   "metadata": {},
   "outputs": [],
   "source": []
  },
  {
   "cell_type": "code",
   "execution_count": null,
   "metadata": {},
   "outputs": [],
   "source": []
  },
  {
   "cell_type": "code",
   "execution_count": null,
   "metadata": {},
   "outputs": [],
   "source": []
  },
  {
   "cell_type": "code",
   "execution_count": null,
   "metadata": {},
   "outputs": [],
   "source": []
  },
  {
   "cell_type": "code",
   "execution_count": null,
   "metadata": {},
   "outputs": [],
   "source": []
  }
 ],
 "metadata": {
  "kernelspec": {
   "display_name": "real-estate-price-prediction",
   "language": "python",
   "name": "python3"
  },
  "language_info": {
   "codemirror_mode": {
    "name": "ipython",
    "version": 3
   },
   "file_extension": ".py",
   "mimetype": "text/x-python",
   "name": "python",
   "nbconvert_exporter": "python",
   "pygments_lexer": "ipython3",
   "version": "3.8.0"
  },
  "orig_nbformat": 4
 },
 "nbformat": 4,
 "nbformat_minor": 2
}
