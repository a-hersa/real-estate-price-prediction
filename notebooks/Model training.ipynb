{
 "cells": [
  {
   "attachments": {},
   "cell_type": "markdown",
   "metadata": {},
   "source": [
    "## Model Training"
   ]
  },
  {
   "cell_type": "code",
   "execution_count": 251,
   "metadata": {},
   "outputs": [],
   "source": [
    "import pandas as pd\n",
    "import numpy as np\n",
    "# Handling missing values and feature scaling\n",
    "from sklearn.impute import SimpleImputer\n",
    "from sklearn.preprocessing import StandardScaler\n",
    "from sklearn.preprocessing import OneHotEncoder\n",
    "\n",
    "# pipelines\n",
    "from sklearn.pipeline import Pipeline\n",
    "from sklearn.compose import ColumnTransformer\n",
    "\n",
    "pd.set_option('display.max_rows', 500)\n",
    "pd.set_option('display.max_columns', 500)\n",
    "pd.set_option('display.width', 1000)\n",
    "pd.set_option('display.max_colwidth', 100)"
   ]
  },
  {
   "cell_type": "code",
   "execution_count": 252,
   "metadata": {},
   "outputs": [
    {
     "data": {
      "text/html": [
       "<div>\n",
       "<style scoped>\n",
       "    .dataframe tbody tr th:only-of-type {\n",
       "        vertical-align: middle;\n",
       "    }\n",
       "\n",
       "    .dataframe tbody tr th {\n",
       "        vertical-align: top;\n",
       "    }\n",
       "\n",
       "    .dataframe thead th {\n",
       "        text-align: right;\n",
       "    }\n",
       "</style>\n",
       "<table border=\"1\" class=\"dataframe\">\n",
       "  <thead>\n",
       "    <tr style=\"text-align: right;\">\n",
       "      <th></th>\n",
       "      <th>time</th>\n",
       "      <th>province</th>\n",
       "      <th>county</th>\n",
       "      <th>city</th>\n",
       "      <th>area</th>\n",
       "      <th>neighborhood</th>\n",
       "      <th>title</th>\n",
       "      <th>type</th>\n",
       "      <th>price</th>\n",
       "      <th>parking</th>\n",
       "      <th>rooms</th>\n",
       "      <th>sqrm</th>\n",
       "      <th>floor</th>\n",
       "      <th>surface</th>\n",
       "      <th>elevator</th>\n",
       "      <th>tag</th>\n",
       "    </tr>\n",
       "  </thead>\n",
       "  <tbody>\n",
       "    <tr>\n",
       "      <th>0</th>\n",
       "      <td>01/04/2023</td>\n",
       "      <td>Barcelona</td>\n",
       "      <td>Maresme</td>\n",
       "      <td>Arenys de Munt</td>\n",
       "      <td>NaN</td>\n",
       "      <td>NaN</td>\n",
       "      <td>Chalet en Arenys de Munt</td>\n",
       "      <td>venta</td>\n",
       "      <td>360000</td>\n",
       "      <td>1</td>\n",
       "      <td>3.0</td>\n",
       "      <td>182</td>\n",
       "      <td>NaN</td>\n",
       "      <td>NaN</td>\n",
       "      <td>NaN</td>\n",
       "      <td>NaN</td>\n",
       "    </tr>\n",
       "    <tr>\n",
       "      <th>1</th>\n",
       "      <td>01/04/2023</td>\n",
       "      <td>Barcelona</td>\n",
       "      <td>Maresme</td>\n",
       "      <td>Arenys de Munt</td>\n",
       "      <td>NaN</td>\n",
       "      <td>NaN</td>\n",
       "      <td>Casa o chalet independiente en Arenys de Munt</td>\n",
       "      <td>venta</td>\n",
       "      <td>570000</td>\n",
       "      <td>0</td>\n",
       "      <td>5.0</td>\n",
       "      <td>266</td>\n",
       "      <td>NaN</td>\n",
       "      <td>NaN</td>\n",
       "      <td>NaN</td>\n",
       "      <td>NaN</td>\n",
       "    </tr>\n",
       "    <tr>\n",
       "      <th>2</th>\n",
       "      <td>01/04/2023</td>\n",
       "      <td>Barcelona</td>\n",
       "      <td>Maresme</td>\n",
       "      <td>Arenys de Munt</td>\n",
       "      <td>NaN</td>\n",
       "      <td>NaN</td>\n",
       "      <td>Chalet en riera i Penya, Arenys de Munt</td>\n",
       "      <td>venta</td>\n",
       "      <td>220000</td>\n",
       "      <td>0</td>\n",
       "      <td>8.0</td>\n",
       "      <td>320</td>\n",
       "      <td>NaN</td>\n",
       "      <td>NaN</td>\n",
       "      <td>NaN</td>\n",
       "      <td>NaN</td>\n",
       "    </tr>\n",
       "    <tr>\n",
       "      <th>3</th>\n",
       "      <td>01/04/2023</td>\n",
       "      <td>Barcelona</td>\n",
       "      <td>Maresme</td>\n",
       "      <td>Arenys de Munt</td>\n",
       "      <td>NaN</td>\n",
       "      <td>NaN</td>\n",
       "      <td>Casa o chalet independiente en Urbanització Collsacreu, Arenys de Munt</td>\n",
       "      <td>venta</td>\n",
       "      <td>495000</td>\n",
       "      <td>1</td>\n",
       "      <td>6.0</td>\n",
       "      <td>199</td>\n",
       "      <td>NaN</td>\n",
       "      <td>NaN</td>\n",
       "      <td>NaN</td>\n",
       "      <td>NaN</td>\n",
       "    </tr>\n",
       "    <tr>\n",
       "      <th>4</th>\n",
       "      <td>01/04/2023</td>\n",
       "      <td>Barcelona</td>\n",
       "      <td>Maresme</td>\n",
       "      <td>Arenys de Munt</td>\n",
       "      <td>NaN</td>\n",
       "      <td>NaN</td>\n",
       "      <td>Chalet en Arenys de Munt</td>\n",
       "      <td>venta</td>\n",
       "      <td>575000</td>\n",
       "      <td>1</td>\n",
       "      <td>5.0</td>\n",
       "      <td>202</td>\n",
       "      <td>NaN</td>\n",
       "      <td>NaN</td>\n",
       "      <td>NaN</td>\n",
       "      <td>Lujo</td>\n",
       "    </tr>\n",
       "  </tbody>\n",
       "</table>\n",
       "</div>"
      ],
      "text/plain": [
       "         time   province   county            city area neighborhood                                                                   title   type   price  parking  rooms sqrm floor surface  elevator   tag\n",
       "0  01/04/2023  Barcelona  Maresme  Arenys de Munt  NaN          NaN                                                Chalet en Arenys de Munt  venta  360000        1    3.0  182   NaN     NaN       NaN   NaN\n",
       "1  01/04/2023  Barcelona  Maresme  Arenys de Munt  NaN          NaN                           Casa o chalet independiente en Arenys de Munt  venta  570000        0    5.0  266   NaN     NaN       NaN   NaN\n",
       "2  01/04/2023  Barcelona  Maresme  Arenys de Munt  NaN          NaN                                 Chalet en riera i Penya, Arenys de Munt  venta  220000        0    8.0  320   NaN     NaN       NaN   NaN\n",
       "3  01/04/2023  Barcelona  Maresme  Arenys de Munt  NaN          NaN  Casa o chalet independiente en Urbanització Collsacreu, Arenys de Munt  venta  495000        1    6.0  199   NaN     NaN       NaN   NaN\n",
       "4  01/04/2023  Barcelona  Maresme  Arenys de Munt  NaN          NaN                                                Chalet en Arenys de Munt  venta  575000        1    5.0  202   NaN     NaN       NaN  Lujo"
      ]
     },
     "execution_count": 252,
     "metadata": {},
     "output_type": "execute_result"
    }
   ],
   "source": [
    "df=pd.read_csv('data/realestate.csv')\n",
    "df.head()"
   ]
  },
  {
   "cell_type": "code",
   "execution_count": 253,
   "metadata": {},
   "outputs": [],
   "source": [
    "# Copy paste the data cleaning code from the EDA notebook\n",
    "from sklearn.base import BaseEstimator, TransformerMixin\n",
    "\n",
    "class RealEstatePreprocessor(BaseEstimator, TransformerMixin):\n",
    "    \n",
    "    def __init__(self):\n",
    "        print('Initialising transformer...')\n",
    "        \n",
    "    def fit(self, X, y = None):\n",
    "        return self\n",
    "    \n",
    "    def transform(self, X):\n",
    "        print('Transforming..')\n",
    "        X=X.drop(labels=['time', 'tag'], axis=1)\n",
    "\n",
    "        # type\n",
    "        X.rename(columns={'type': 'deal_type'}, inplace=True)\n",
    "\n",
    "        # sqrm\n",
    "        X['sqrm'] = X['sqrm'].replace('[^0-9]', np.nan, regex=True)\n",
    "        X = X.dropna(subset=['sqrm'])\n",
    "        X['sqrm'] = X['sqrm'].astype(int)\n",
    "\n",
    "        # property_type_encoded & dropping duplicates\n",
    "        X['property_type'] = [x.split()[0] for x in X['title']]\n",
    "        X = X[X['property_type'] != 'Estudio']\n",
    "        X = X[X['property_type'] != 'Finca']\n",
    "        X=X.drop(labels=['title'], axis=1)\n",
    "        X=X.drop_duplicates()\n",
    "        # ptype_price_sqrm = X.groupby('property_type', as_index=False).apply(lambda x: pd.Series({'property_type_encoded':x['price'].sum() / x['sqrm'].sum()})).set_index('property_type')['property_type_encoded'].to_dict()\n",
    "        # X['property_type_encoded'] = X['property_type'].map(ptype_price_sqrm)\n",
    "\n",
    "        # floor\n",
    "        X['floor'] = X['floor'].replace('-', '-1')\n",
    "        X['floor'] = X['floor'].astype(float)\n",
    "        X.loc[X['property_type'].isin(['Casa', 'Castillo', 'Chalet', 'Cortijo', 'Finca', 'Masía', 'Torre']), 'floor'] = '0'\n",
    "        X['floor'] = X['floor'].astype(float)\n",
    "        X['floor'] = X['floor'].fillna(X.groupby('property_type')['floor'].transform('mean'))\n",
    "        X['floor'] = X['floor'].astype(int)\n",
    "\n",
    "        # elevator\n",
    "        X.loc[X['property_type'].isin(['Casa', 'Castillo', 'Chalet', 'Cortijo', 'Finca', 'Masía', 'Torre']), 'elevator'] = '0'\n",
    "        X['elevator'] = X['elevator'].astype(float)\n",
    "        X['elevator'] = X['elevator'].fillna(X.groupby('property_type')['elevator'].transform('mean'))\n",
    "        X['elevator'] = X['elevator'].astype(int)\n",
    "\n",
    "        # surface\n",
    "        X['surface'] = X['surface'].fillna('0')\n",
    "        X['surface'] = X['surface'].replace('outdoor', '1')\n",
    "        X['surface'] = X['surface'].astype(int)\n",
    "\n",
    "        # rooms\n",
    "        X = X.dropna(subset=['rooms'])\n",
    "        X['rooms'] = X['rooms'].astype(int)\n",
    "\n",
    "        # location_encoded\n",
    "        X['province'] = X['province'].fillna('empty')\n",
    "        X['county'] = X['county'].fillna('empty')\n",
    "        X['city'] = X['city'].fillna('empty')\n",
    "        X['area'] = X['area'].fillna('empty')\n",
    "        X['neighborhood'] = X['neighborhood'].fillna('empty')\n",
    "        X['city_filled'] = X['province'] + '-' + X['county'] + '-' + X['city']\n",
    "        X['area_filled'] = X['province'] + '-' + X['county'] + '-' + X['city'] + '-' + X['area']\n",
    "        X['neighborhood_filled'] = X['province'] + '-' + X['county'] + '-' + X['city'] + '-' + X['area'] + '-' + X['neighborhood']\n",
    "        city_price_sqrm = X.groupby('city_filled', as_index=False).apply(lambda x: pd.Series({'location_encoded':x['price'].sum() / x['sqrm'].sum()}))\n",
    "        city_count = X.groupby('city_filled')['province'].count()\n",
    "        city_joined = pd.merge(city_price_sqrm, city_count, on='city_filled')\n",
    "        area_price_sqrm = X.groupby('area_filled', as_index=False).apply(lambda x: pd.Series({'location_encoded':x['price'].sum() / x['sqrm'].sum()}))\n",
    "        area_count = X.groupby('area_filled')['province'].count()\n",
    "        area_joined = pd.merge(area_price_sqrm, area_count, on='area_filled')\n",
    "        area_joined = area_joined.drop(area_joined[area_joined.province < 100].index)\n",
    "        neighborhood_price_sqrm = X.groupby('neighborhood_filled', as_index=False).apply(lambda x: pd.Series({'location_encoded':x['price'].sum() / x['sqrm'].sum()}))\n",
    "        neighborhood_count = X.groupby('neighborhood_filled')['province'].count()\n",
    "        neighborhood_joined = pd.merge(neighborhood_price_sqrm, neighborhood_count, on='neighborhood_filled')\n",
    "        neighborhood_joined = neighborhood_joined.drop(neighborhood_joined[neighborhood_joined.province < 100].index)\n",
    "        dict_city = city_joined.drop(columns='province').set_index('city_filled')['location_encoded'].to_dict()\n",
    "        dict_area = area_joined.drop(columns='province').set_index('area_filled')['location_encoded'].to_dict()\n",
    "        dict_neighborhood = neighborhood_joined.drop(columns='province').set_index('neighborhood_filled')['location_encoded'].to_dict()\n",
    "        X['location_encoded'] = X['neighborhood_filled'].map(dict_neighborhood)\n",
    "        X['location_encoded'] = np.where(X['location_encoded'].isna(), X['area_filled'].map(dict_area), X['location_encoded'])\n",
    "        X['location_encoded'] = np.where(X['location_encoded'].isna(), X['city_filled'].map(dict_city), X['location_encoded'])\n",
    "        X=X.drop(labels=['province', 'county', 'city', 'area', 'neighborhood', 'city_filled', 'area_filled', 'neighborhood_filled'], axis=1)\n",
    "        return X"
   ]
  },
  {
   "cell_type": "code",
   "execution_count": 254,
   "metadata": {},
   "outputs": [],
   "source": [
    "# df for rent and another one for sale\n",
    "df_venta = df[df['type']=='venta']\n",
    "df_alquiler = df[df['type']=='alquiler']"
   ]
  },
  {
   "cell_type": "code",
   "execution_count": 255,
   "metadata": {},
   "outputs": [],
   "source": [
    "# Handling missing values and feature scaling\n",
    "from sklearn.preprocessing import StandardScaler\n",
    "from sklearn.preprocessing import OneHotEncoder\n",
    "from src.utils import RealEstatePreprocessor\n",
    "from sklearn.compose import make_column_selector as selector\n",
    "\n",
    "# pipelines\n",
    "from sklearn.pipeline import Pipeline\n",
    "from sklearn.compose import ColumnTransformer"
   ]
  },
  {
   "cell_type": "code",
   "execution_count": 256,
   "metadata": {},
   "outputs": [
    {
     "name": "stdout",
     "output_type": "stream",
     "text": [
      "Initialising transformer...\n"
     ]
    }
   ],
   "source": [
    "estate_pipeline = Pipeline(\n",
    "    steps=[\n",
    "        ('real_estate_prep', RealEstatePreprocessor())\n",
    "    ]\n",
    ")\n",
    "\n",
    "## Numerical pipline that scales\n",
    "num_pipeline = Pipeline(\n",
    "    steps=[\n",
    "    ('scaler', StandardScaler())\n",
    "    ]\n",
    ")\n",
    "\n",
    "# Categorical Pipeline. We don't scale if we are going to One Hot Encode\n",
    "cat_pipeline = Pipeline(\n",
    "    steps=[\n",
    "        ('onehotencoder', OneHotEncoder(handle_unknown='ignore'))\n",
    "    ]\n",
    ")\n",
    "\n",
    "preprocessor = ColumnTransformer([\n",
    "    ('num_pipeline', num_pipeline, selector(dtype_exclude=object)),\n",
    "    ('cat_pipeline', cat_pipeline, selector(dtype_include=object))\n",
    "])"
   ]
  },
  {
   "cell_type": "code",
   "execution_count": 257,
   "metadata": {},
   "outputs": [],
   "source": [
    "pipe = Pipeline(\n",
    "    steps=[\n",
    "        ('estate_pipeline', estate_pipeline),\n",
    "        ('preprocessor', preprocessor)\n",
    "    ]\n",
    ")"
   ]
  },
  {
   "cell_type": "code",
   "execution_count": 258,
   "metadata": {},
   "outputs": [],
   "source": [
    "from sklearn.model_selection import train_test_split"
   ]
  },
  {
   "cell_type": "code",
   "execution_count": 259,
   "metadata": {},
   "outputs": [],
   "source": [
    "train_df, test_df = train_test_split(df_venta, test_size=0.30, random_state=30)"
   ]
  },
  {
   "cell_type": "code",
   "execution_count": 260,
   "metadata": {},
   "outputs": [],
   "source": [
    "target_column_name = 'price'"
   ]
  },
  {
   "cell_type": "code",
   "execution_count": 261,
   "metadata": {},
   "outputs": [],
   "source": [
    "train_df = pipe[0].transform(train_df)\n",
    "test_df = pipe[0].transform(test_df)"
   ]
  },
  {
   "cell_type": "code",
   "execution_count": 267,
   "metadata": {},
   "outputs": [
    {
     "data": {
      "text/html": [
       "<div>\n",
       "<style scoped>\n",
       "    .dataframe tbody tr th:only-of-type {\n",
       "        vertical-align: middle;\n",
       "    }\n",
       "\n",
       "    .dataframe tbody tr th {\n",
       "        vertical-align: top;\n",
       "    }\n",
       "\n",
       "    .dataframe thead th {\n",
       "        text-align: right;\n",
       "    }\n",
       "</style>\n",
       "<table border=\"1\" class=\"dataframe\">\n",
       "  <thead>\n",
       "    <tr style=\"text-align: right;\">\n",
       "      <th></th>\n",
       "      <th>deal_type</th>\n",
       "      <th>parking</th>\n",
       "      <th>rooms</th>\n",
       "      <th>sqrm</th>\n",
       "      <th>floor</th>\n",
       "      <th>surface</th>\n",
       "      <th>elevator</th>\n",
       "      <th>property_type</th>\n",
       "      <th>property_type_encoded</th>\n",
       "      <th>location_encoded</th>\n",
       "    </tr>\n",
       "  </thead>\n",
       "  <tbody>\n",
       "    <tr>\n",
       "      <th>270</th>\n",
       "      <td>venta</td>\n",
       "      <td>1</td>\n",
       "      <td>4</td>\n",
       "      <td>454</td>\n",
       "      <td>0</td>\n",
       "      <td>0</td>\n",
       "      <td>0</td>\n",
       "      <td>Casa</td>\n",
       "      <td>2441.961066</td>\n",
       "      <td>3250.939702</td>\n",
       "    </tr>\n",
       "    <tr>\n",
       "      <th>5633</th>\n",
       "      <td>venta</td>\n",
       "      <td>0</td>\n",
       "      <td>3</td>\n",
       "      <td>83</td>\n",
       "      <td>3</td>\n",
       "      <td>1</td>\n",
       "      <td>1</td>\n",
       "      <td>Piso</td>\n",
       "      <td>2318.840874</td>\n",
       "      <td>1703.570117</td>\n",
       "    </tr>\n",
       "    <tr>\n",
       "      <th>6138</th>\n",
       "      <td>venta</td>\n",
       "      <td>0</td>\n",
       "      <td>4</td>\n",
       "      <td>87</td>\n",
       "      <td>0</td>\n",
       "      <td>0</td>\n",
       "      <td>0</td>\n",
       "      <td>Chalet</td>\n",
       "      <td>2029.032996</td>\n",
       "      <td>2502.954484</td>\n",
       "    </tr>\n",
       "    <tr>\n",
       "      <th>7716</th>\n",
       "      <td>venta</td>\n",
       "      <td>1</td>\n",
       "      <td>5</td>\n",
       "      <td>770</td>\n",
       "      <td>0</td>\n",
       "      <td>0</td>\n",
       "      <td>0</td>\n",
       "      <td>Casa</td>\n",
       "      <td>2441.961066</td>\n",
       "      <td>3180.977326</td>\n",
       "    </tr>\n",
       "    <tr>\n",
       "      <th>1416</th>\n",
       "      <td>venta</td>\n",
       "      <td>1</td>\n",
       "      <td>4</td>\n",
       "      <td>185</td>\n",
       "      <td>0</td>\n",
       "      <td>0</td>\n",
       "      <td>0</td>\n",
       "      <td>Casa</td>\n",
       "      <td>2441.961066</td>\n",
       "      <td>1361.122653</td>\n",
       "    </tr>\n",
       "    <tr>\n",
       "      <th>...</th>\n",
       "      <td>...</td>\n",
       "      <td>...</td>\n",
       "      <td>...</td>\n",
       "      <td>...</td>\n",
       "      <td>...</td>\n",
       "      <td>...</td>\n",
       "      <td>...</td>\n",
       "      <td>...</td>\n",
       "      <td>...</td>\n",
       "      <td>...</td>\n",
       "    </tr>\n",
       "    <tr>\n",
       "      <th>5260</th>\n",
       "      <td>venta</td>\n",
       "      <td>0</td>\n",
       "      <td>3</td>\n",
       "      <td>100</td>\n",
       "      <td>1</td>\n",
       "      <td>1</td>\n",
       "      <td>0</td>\n",
       "      <td>Piso</td>\n",
       "      <td>2318.840874</td>\n",
       "      <td>2225.656319</td>\n",
       "    </tr>\n",
       "    <tr>\n",
       "      <th>500</th>\n",
       "      <td>venta</td>\n",
       "      <td>1</td>\n",
       "      <td>4</td>\n",
       "      <td>431</td>\n",
       "      <td>0</td>\n",
       "      <td>0</td>\n",
       "      <td>0</td>\n",
       "      <td>Casa</td>\n",
       "      <td>2441.961066</td>\n",
       "      <td>2445.903382</td>\n",
       "    </tr>\n",
       "    <tr>\n",
       "      <th>3885</th>\n",
       "      <td>venta</td>\n",
       "      <td>0</td>\n",
       "      <td>3</td>\n",
       "      <td>91</td>\n",
       "      <td>2</td>\n",
       "      <td>1</td>\n",
       "      <td>0</td>\n",
       "      <td>Piso</td>\n",
       "      <td>2318.840874</td>\n",
       "      <td>2312.581750</td>\n",
       "    </tr>\n",
       "    <tr>\n",
       "      <th>4517</th>\n",
       "      <td>venta</td>\n",
       "      <td>0</td>\n",
       "      <td>5</td>\n",
       "      <td>240</td>\n",
       "      <td>0</td>\n",
       "      <td>0</td>\n",
       "      <td>0</td>\n",
       "      <td>Casa</td>\n",
       "      <td>2441.961066</td>\n",
       "      <td>2323.856621</td>\n",
       "    </tr>\n",
       "    <tr>\n",
       "      <th>5925</th>\n",
       "      <td>venta</td>\n",
       "      <td>0</td>\n",
       "      <td>3</td>\n",
       "      <td>90</td>\n",
       "      <td>2</td>\n",
       "      <td>1</td>\n",
       "      <td>0</td>\n",
       "      <td>Piso</td>\n",
       "      <td>2318.840874</td>\n",
       "      <td>1732.082064</td>\n",
       "    </tr>\n",
       "  </tbody>\n",
       "</table>\n",
       "<p>4648 rows × 10 columns</p>\n",
       "</div>"
      ],
      "text/plain": [
       "     deal_type  parking  rooms  sqrm  floor  surface  elevator property_type  property_type_encoded  location_encoded\n",
       "270      venta        1      4   454      0        0         0          Casa            2441.961066       3250.939702\n",
       "5633     venta        0      3    83      3        1         1          Piso            2318.840874       1703.570117\n",
       "6138     venta        0      4    87      0        0         0        Chalet            2029.032996       2502.954484\n",
       "7716     venta        1      5   770      0        0         0          Casa            2441.961066       3180.977326\n",
       "1416     venta        1      4   185      0        0         0          Casa            2441.961066       1361.122653\n",
       "...        ...      ...    ...   ...    ...      ...       ...           ...                    ...               ...\n",
       "5260     venta        0      3   100      1        1         0          Piso            2318.840874       2225.656319\n",
       "500      venta        1      4   431      0        0         0          Casa            2441.961066       2445.903382\n",
       "3885     venta        0      3    91      2        1         0          Piso            2318.840874       2312.581750\n",
       "4517     venta        0      5   240      0        0         0          Casa            2441.961066       2323.856621\n",
       "5925     venta        0      3    90      2        1         0          Piso            2318.840874       1732.082064\n",
       "\n",
       "[4648 rows x 10 columns]"
      ]
     },
     "execution_count": 267,
     "metadata": {},
     "output_type": "execute_result"
    }
   ],
   "source": [
    "train_df"
   ]
  },
  {
   "cell_type": "code",
   "execution_count": 203,
   "metadata": {},
   "outputs": [],
   "source": [
    "# Train test split\n",
    "from sklearn.model_selection import train_test_split\n",
    "X_train, X_test, y_train, y_test = train_test_split(X_venta, Y_venta, test_size=0.30, random_state=42)"
   ]
  },
  {
   "cell_type": "code",
   "execution_count": 204,
   "metadata": {},
   "outputs": [
    {
     "data": {
      "text/plain": [
       "array([[ 1.09592341,  0.01611078,  1.11659683, ...,  0.        ,\n",
       "         0.        ,  0.        ],\n",
       "       [-0.91247252,  0.01611078,  0.49664268, ...,  0.        ,\n",
       "         0.        ,  0.        ],\n",
       "       [ 1.09592341,  0.4513846 ,  0.36292708, ...,  0.        ,\n",
       "         0.        ,  0.        ],\n",
       "       ...,\n",
       "       [-0.91247252,  0.01611078, -0.28377018, ...,  1.        ,\n",
       "         0.        ,  0.        ],\n",
       "       [ 1.09592341,  0.88665841,  1.16522069, ...,  0.        ,\n",
       "         0.        ,  0.        ],\n",
       "       [-0.91247252, -0.85443684, -0.39560505, ...,  1.        ,\n",
       "         0.        ,  0.        ]])"
      ]
     },
     "execution_count": 204,
     "metadata": {},
     "output_type": "execute_result"
    }
   ],
   "source": [
    "pipe.fit_transform(X_train)"
   ]
  },
  {
   "cell_type": "code",
   "execution_count": 205,
   "metadata": {},
   "outputs": [],
   "source": [
    "X_train = pd.DataFrame(pipe.fit_transform(X_train), columns=preprocessor.get_feature_names_out())\n",
    "X_test = pd.DataFrame(pipe.transform(X_test), columns=preprocessor.get_feature_names_out())"
   ]
  },
  {
   "cell_type": "code",
   "execution_count": 206,
   "metadata": {},
   "outputs": [
    {
     "data": {
      "text/html": [
       "<div>\n",
       "<style scoped>\n",
       "    .dataframe tbody tr th:only-of-type {\n",
       "        vertical-align: middle;\n",
       "    }\n",
       "\n",
       "    .dataframe tbody tr th {\n",
       "        vertical-align: top;\n",
       "    }\n",
       "\n",
       "    .dataframe thead th {\n",
       "        text-align: right;\n",
       "    }\n",
       "</style>\n",
       "<table border=\"1\" class=\"dataframe\">\n",
       "  <thead>\n",
       "    <tr style=\"text-align: right;\">\n",
       "      <th></th>\n",
       "      <th>num_pipeline__parking</th>\n",
       "      <th>num_pipeline__rooms</th>\n",
       "      <th>num_pipeline__sqrm</th>\n",
       "      <th>num_pipeline__floor</th>\n",
       "      <th>num_pipeline__surface</th>\n",
       "      <th>num_pipeline__elevator</th>\n",
       "      <th>num_pipeline__property_type_encoded</th>\n",
       "      <th>num_pipeline__location_encoded</th>\n",
       "      <th>cat_pipeline__deal_type_venta</th>\n",
       "      <th>cat_pipeline__property_type_Casa</th>\n",
       "      <th>cat_pipeline__property_type_Castillo</th>\n",
       "      <th>cat_pipeline__property_type_Chalet</th>\n",
       "      <th>cat_pipeline__property_type_Cortijo</th>\n",
       "      <th>cat_pipeline__property_type_Dúplex</th>\n",
       "      <th>cat_pipeline__property_type_Masía</th>\n",
       "      <th>cat_pipeline__property_type_Piso</th>\n",
       "      <th>cat_pipeline__property_type_Torre</th>\n",
       "      <th>cat_pipeline__property_type_Ático</th>\n",
       "    </tr>\n",
       "  </thead>\n",
       "  <tbody>\n",
       "    <tr>\n",
       "      <th>0</th>\n",
       "      <td>1.095923</td>\n",
       "      <td>0.016111</td>\n",
       "      <td>1.116597</td>\n",
       "      <td>-0.633848</td>\n",
       "      <td>-0.80513</td>\n",
       "      <td>-0.667162</td>\n",
       "      <td>-4.632584</td>\n",
       "      <td>0.018836</td>\n",
       "      <td>1.0</td>\n",
       "      <td>0.0</td>\n",
       "      <td>0.0</td>\n",
       "      <td>0.0</td>\n",
       "      <td>0.0</td>\n",
       "      <td>0.0</td>\n",
       "      <td>1.0</td>\n",
       "      <td>0.0</td>\n",
       "      <td>0.0</td>\n",
       "      <td>0.0</td>\n",
       "    </tr>\n",
       "    <tr>\n",
       "      <th>1</th>\n",
       "      <td>-0.912473</td>\n",
       "      <td>0.016111</td>\n",
       "      <td>0.496643</td>\n",
       "      <td>-0.633848</td>\n",
       "      <td>-0.80513</td>\n",
       "      <td>-0.667162</td>\n",
       "      <td>0.545512</td>\n",
       "      <td>0.226801</td>\n",
       "      <td>1.0</td>\n",
       "      <td>1.0</td>\n",
       "      <td>0.0</td>\n",
       "      <td>0.0</td>\n",
       "      <td>0.0</td>\n",
       "      <td>0.0</td>\n",
       "      <td>0.0</td>\n",
       "      <td>0.0</td>\n",
       "      <td>0.0</td>\n",
       "      <td>0.0</td>\n",
       "    </tr>\n",
       "    <tr>\n",
       "      <th>2</th>\n",
       "      <td>1.095923</td>\n",
       "      <td>0.451385</td>\n",
       "      <td>0.362927</td>\n",
       "      <td>-0.633848</td>\n",
       "      <td>-0.80513</td>\n",
       "      <td>-0.667162</td>\n",
       "      <td>0.545512</td>\n",
       "      <td>1.716804</td>\n",
       "      <td>1.0</td>\n",
       "      <td>1.0</td>\n",
       "      <td>0.0</td>\n",
       "      <td>0.0</td>\n",
       "      <td>0.0</td>\n",
       "      <td>0.0</td>\n",
       "      <td>0.0</td>\n",
       "      <td>0.0</td>\n",
       "      <td>0.0</td>\n",
       "      <td>0.0</td>\n",
       "    </tr>\n",
       "    <tr>\n",
       "      <th>3</th>\n",
       "      <td>1.095923</td>\n",
       "      <td>-0.419163</td>\n",
       "      <td>-0.130605</td>\n",
       "      <td>-0.633848</td>\n",
       "      <td>-0.80513</td>\n",
       "      <td>-0.667162</td>\n",
       "      <td>0.545512</td>\n",
       "      <td>-1.244365</td>\n",
       "      <td>1.0</td>\n",
       "      <td>1.0</td>\n",
       "      <td>0.0</td>\n",
       "      <td>0.0</td>\n",
       "      <td>0.0</td>\n",
       "      <td>0.0</td>\n",
       "      <td>0.0</td>\n",
       "      <td>0.0</td>\n",
       "      <td>0.0</td>\n",
       "      <td>0.0</td>\n",
       "    </tr>\n",
       "    <tr>\n",
       "      <th>4</th>\n",
       "      <td>-0.912473</td>\n",
       "      <td>0.451385</td>\n",
       "      <td>-0.147623</td>\n",
       "      <td>0.036261</td>\n",
       "      <td>-0.80513</td>\n",
       "      <td>-0.667162</td>\n",
       "      <td>0.045297</td>\n",
       "      <td>0.563084</td>\n",
       "      <td>1.0</td>\n",
       "      <td>0.0</td>\n",
       "      <td>0.0</td>\n",
       "      <td>0.0</td>\n",
       "      <td>0.0</td>\n",
       "      <td>0.0</td>\n",
       "      <td>0.0</td>\n",
       "      <td>1.0</td>\n",
       "      <td>0.0</td>\n",
       "      <td>0.0</td>\n",
       "    </tr>\n",
       "  </tbody>\n",
       "</table>\n",
       "</div>"
      ],
      "text/plain": [
       "   num_pipeline__parking  num_pipeline__rooms  num_pipeline__sqrm  num_pipeline__floor  num_pipeline__surface  num_pipeline__elevator  num_pipeline__property_type_encoded  num_pipeline__location_encoded  cat_pipeline__deal_type_venta  cat_pipeline__property_type_Casa  cat_pipeline__property_type_Castillo  cat_pipeline__property_type_Chalet  cat_pipeline__property_type_Cortijo  cat_pipeline__property_type_Dúplex  cat_pipeline__property_type_Masía  cat_pipeline__property_type_Piso  cat_pipeline__property_type_Torre  cat_pipeline__property_type_Ático\n",
       "0               1.095923             0.016111            1.116597            -0.633848               -0.80513               -0.667162                            -4.632584                        0.018836                            1.0                               0.0                                   0.0                                 0.0                                  0.0                                 0.0                                1.0                               0.0                                0.0                                0.0\n",
       "1              -0.912473             0.016111            0.496643            -0.633848               -0.80513               -0.667162                             0.545512                        0.226801                            1.0                               1.0                                   0.0                                 0.0                                  0.0                                 0.0                                0.0                               0.0                                0.0                                0.0\n",
       "2               1.095923             0.451385            0.362927            -0.633848               -0.80513               -0.667162                             0.545512                        1.716804                            1.0                               1.0                                   0.0                                 0.0                                  0.0                                 0.0                                0.0                               0.0                                0.0                                0.0\n",
       "3               1.095923            -0.419163           -0.130605            -0.633848               -0.80513               -0.667162                             0.545512                       -1.244365                            1.0                               1.0                                   0.0                                 0.0                                  0.0                                 0.0                                0.0                               0.0                                0.0                                0.0\n",
       "4              -0.912473             0.451385           -0.147623             0.036261               -0.80513               -0.667162                             0.045297                        0.563084                            1.0                               0.0                                   0.0                                 0.0                                  0.0                                 0.0                                0.0                               1.0                                0.0                                0.0"
      ]
     },
     "execution_count": 206,
     "metadata": {},
     "output_type": "execute_result"
    }
   ],
   "source": [
    "X_train.head()"
   ]
  },
  {
   "cell_type": "code",
   "execution_count": 207,
   "metadata": {},
   "outputs": [],
   "source": [
    "# Model Training\n",
    "\n",
    "from sklearn.linear_model import LinearRegression, Lasso, Ridge, ElasticNet\n",
    "from sklearn.ensemble import RandomForestRegressor\n",
    "from sklearn.ensemble import GradientBoostingRegressor\n",
    "import xgboost as xgb\n",
    "from lightgbm import LGBMRegressor\n",
    "from sklearn.metrics import r2_score, mean_absolute_error, mean_squared_error"
   ]
  },
  {
   "cell_type": "code",
   "execution_count": 208,
   "metadata": {},
   "outputs": [
    {
     "ename": "ValueError",
     "evalue": "Found input variables with inconsistent numbers of samples: [4620, 5439]",
     "output_type": "error",
     "traceback": [
      "\u001b[1;31m---------------------------------------------------------------------------\u001b[0m",
      "\u001b[1;31mValueError\u001b[0m                                Traceback (most recent call last)",
      "Cell \u001b[1;32mIn[208], line 2\u001b[0m\n\u001b[0;32m      1\u001b[0m regression\u001b[39m=\u001b[39mLinearRegression()\n\u001b[1;32m----> 2\u001b[0m regression\u001b[39m.\u001b[39;49mfit(X_train, y_train)\n",
      "File \u001b[1;32mc:\\Users\\alber\\anaconda3\\envs\\real-estate-price-prediction\\lib\\site-packages\\sklearn\\linear_model\\_base.py:648\u001b[0m, in \u001b[0;36mLinearRegression.fit\u001b[1;34m(self, X, y, sample_weight)\u001b[0m\n\u001b[0;32m    644\u001b[0m n_jobs_ \u001b[39m=\u001b[39m \u001b[39mself\u001b[39m\u001b[39m.\u001b[39mn_jobs\n\u001b[0;32m    646\u001b[0m accept_sparse \u001b[39m=\u001b[39m \u001b[39mFalse\u001b[39;00m \u001b[39mif\u001b[39;00m \u001b[39mself\u001b[39m\u001b[39m.\u001b[39mpositive \u001b[39melse\u001b[39;00m [\u001b[39m\"\u001b[39m\u001b[39mcsr\u001b[39m\u001b[39m\"\u001b[39m, \u001b[39m\"\u001b[39m\u001b[39mcsc\u001b[39m\u001b[39m\"\u001b[39m, \u001b[39m\"\u001b[39m\u001b[39mcoo\u001b[39m\u001b[39m\"\u001b[39m]\n\u001b[1;32m--> 648\u001b[0m X, y \u001b[39m=\u001b[39m \u001b[39mself\u001b[39;49m\u001b[39m.\u001b[39;49m_validate_data(\n\u001b[0;32m    649\u001b[0m     X, y, accept_sparse\u001b[39m=\u001b[39;49maccept_sparse, y_numeric\u001b[39m=\u001b[39;49m\u001b[39mTrue\u001b[39;49;00m, multi_output\u001b[39m=\u001b[39;49m\u001b[39mTrue\u001b[39;49;00m\n\u001b[0;32m    650\u001b[0m )\n\u001b[0;32m    652\u001b[0m sample_weight \u001b[39m=\u001b[39m _check_sample_weight(\n\u001b[0;32m    653\u001b[0m     sample_weight, X, dtype\u001b[39m=\u001b[39mX\u001b[39m.\u001b[39mdtype, only_non_negative\u001b[39m=\u001b[39m\u001b[39mTrue\u001b[39;00m\n\u001b[0;32m    654\u001b[0m )\n\u001b[0;32m    656\u001b[0m X, y, X_offset, y_offset, X_scale \u001b[39m=\u001b[39m _preprocess_data(\n\u001b[0;32m    657\u001b[0m     X,\n\u001b[0;32m    658\u001b[0m     y,\n\u001b[1;32m   (...)\u001b[0m\n\u001b[0;32m    661\u001b[0m     sample_weight\u001b[39m=\u001b[39msample_weight,\n\u001b[0;32m    662\u001b[0m )\n",
      "File \u001b[1;32mc:\\Users\\alber\\anaconda3\\envs\\real-estate-price-prediction\\lib\\site-packages\\sklearn\\base.py:584\u001b[0m, in \u001b[0;36mBaseEstimator._validate_data\u001b[1;34m(self, X, y, reset, validate_separately, **check_params)\u001b[0m\n\u001b[0;32m    582\u001b[0m         y \u001b[39m=\u001b[39m check_array(y, input_name\u001b[39m=\u001b[39m\u001b[39m\"\u001b[39m\u001b[39my\u001b[39m\u001b[39m\"\u001b[39m, \u001b[39m*\u001b[39m\u001b[39m*\u001b[39mcheck_y_params)\n\u001b[0;32m    583\u001b[0m     \u001b[39melse\u001b[39;00m:\n\u001b[1;32m--> 584\u001b[0m         X, y \u001b[39m=\u001b[39m check_X_y(X, y, \u001b[39m*\u001b[39;49m\u001b[39m*\u001b[39;49mcheck_params)\n\u001b[0;32m    585\u001b[0m     out \u001b[39m=\u001b[39m X, y\n\u001b[0;32m    587\u001b[0m \u001b[39mif\u001b[39;00m \u001b[39mnot\u001b[39;00m no_val_X \u001b[39mand\u001b[39;00m check_params\u001b[39m.\u001b[39mget(\u001b[39m\"\u001b[39m\u001b[39mensure_2d\u001b[39m\u001b[39m\"\u001b[39m, \u001b[39mTrue\u001b[39;00m):\n",
      "File \u001b[1;32mc:\\Users\\alber\\anaconda3\\envs\\real-estate-price-prediction\\lib\\site-packages\\sklearn\\utils\\validation.py:1124\u001b[0m, in \u001b[0;36mcheck_X_y\u001b[1;34m(X, y, accept_sparse, accept_large_sparse, dtype, order, copy, force_all_finite, ensure_2d, allow_nd, multi_output, ensure_min_samples, ensure_min_features, y_numeric, estimator)\u001b[0m\n\u001b[0;32m   1106\u001b[0m X \u001b[39m=\u001b[39m check_array(\n\u001b[0;32m   1107\u001b[0m     X,\n\u001b[0;32m   1108\u001b[0m     accept_sparse\u001b[39m=\u001b[39maccept_sparse,\n\u001b[1;32m   (...)\u001b[0m\n\u001b[0;32m   1119\u001b[0m     input_name\u001b[39m=\u001b[39m\u001b[39m\"\u001b[39m\u001b[39mX\u001b[39m\u001b[39m\"\u001b[39m,\n\u001b[0;32m   1120\u001b[0m )\n\u001b[0;32m   1122\u001b[0m y \u001b[39m=\u001b[39m _check_y(y, multi_output\u001b[39m=\u001b[39mmulti_output, y_numeric\u001b[39m=\u001b[39my_numeric, estimator\u001b[39m=\u001b[39mestimator)\n\u001b[1;32m-> 1124\u001b[0m check_consistent_length(X, y)\n\u001b[0;32m   1126\u001b[0m \u001b[39mreturn\u001b[39;00m X, y\n",
      "File \u001b[1;32mc:\\Users\\alber\\anaconda3\\envs\\real-estate-price-prediction\\lib\\site-packages\\sklearn\\utils\\validation.py:397\u001b[0m, in \u001b[0;36mcheck_consistent_length\u001b[1;34m(*arrays)\u001b[0m\n\u001b[0;32m    395\u001b[0m uniques \u001b[39m=\u001b[39m np\u001b[39m.\u001b[39munique(lengths)\n\u001b[0;32m    396\u001b[0m \u001b[39mif\u001b[39;00m \u001b[39mlen\u001b[39m(uniques) \u001b[39m>\u001b[39m \u001b[39m1\u001b[39m:\n\u001b[1;32m--> 397\u001b[0m     \u001b[39mraise\u001b[39;00m \u001b[39mValueError\u001b[39;00m(\n\u001b[0;32m    398\u001b[0m         \u001b[39m\"\u001b[39m\u001b[39mFound input variables with inconsistent numbers of samples: \u001b[39m\u001b[39m%r\u001b[39;00m\u001b[39m\"\u001b[39m\n\u001b[0;32m    399\u001b[0m         \u001b[39m%\u001b[39m [\u001b[39mint\u001b[39m(l) \u001b[39mfor\u001b[39;00m l \u001b[39min\u001b[39;00m lengths]\n\u001b[0;32m    400\u001b[0m     )\n",
      "\u001b[1;31mValueError\u001b[0m: Found input variables with inconsistent numbers of samples: [4620, 5439]"
     ]
    }
   ],
   "source": [
    "regression=LinearRegression()\n",
    "regression.fit(X_train, y_train)"
   ]
  },
  {
   "cell_type": "code",
   "execution_count": null,
   "metadata": {},
   "outputs": [
    {
     "data": {
      "text/plain": [
       "array([[  36030.14605057,  223108.75607339,  292293.95527525,\n",
       "          -7303.41220288,  -17172.90595457,   12871.16098184,\n",
       "         185298.58281446,  217723.17941913, -148492.97444558,\n",
       "         504803.75264361,  -35431.28784721, -356958.620994  ,\n",
       "         548083.07860143, -265564.01289488,  592378.06401199,\n",
       "        -838817.99907537]])"
      ]
     },
     "execution_count": 156,
     "metadata": {},
     "output_type": "execute_result"
    }
   ],
   "source": [
    "regression.coef_"
   ]
  },
  {
   "cell_type": "code",
   "execution_count": null,
   "metadata": {},
   "outputs": [
    {
     "data": {
      "text/plain": [
       "array([747893.28551344])"
      ]
     },
     "execution_count": 157,
     "metadata": {},
     "output_type": "execute_result"
    }
   ],
   "source": [
    "regression.intercept_"
   ]
  },
  {
   "cell_type": "code",
   "execution_count": null,
   "metadata": {},
   "outputs": [],
   "source": [
    "def evaluate_model(true, predicted):\n",
    "    mae = mean_absolute_error(true, predicted)\n",
    "    mse = mean_squared_error(true, predicted)\n",
    "    rmse = np.sqrt(mean_squared_error(true, predicted))\n",
    "    r2_square = r2_score(true, predicted)\n",
    "    return mae, rmse, r2_square"
   ]
  },
  {
   "cell_type": "code",
   "execution_count": null,
   "metadata": {},
   "outputs": [
    {
     "name": "stdout",
     "output_type": "stream",
     "text": [
      "LinearRegression\n",
      "Model Training Performance\n",
      "RMSE: 491994.32376399776\n",
      "MAE: 236901.08347371925\n",
      "R2 score 59.78930352647849\n",
      "===================================\n",
      "\n",
      "\n",
      "Lasso\n",
      "Model Training Performance\n",
      "RMSE: 491933.5923002461\n",
      "MAE: 236761.89936216167\n",
      "R2 score 59.79923007893873\n",
      "===================================\n",
      "\n",
      "\n",
      "Ridge\n",
      "Model Training Performance\n",
      "RMSE: 493365.82492744393\n",
      "MAE: 236993.18877637305\n",
      "R2 score 59.56480547019739\n",
      "===================================\n",
      "\n",
      "\n",
      "Elasticnet\n",
      "Model Training Performance\n",
      "RMSE: 540310.027582229\n",
      "MAE: 232391.76321096558\n",
      "R2 score 51.503827230111575\n",
      "===================================\n",
      "\n",
      "\n"
     ]
    },
    {
     "name": "stderr",
     "output_type": "stream",
     "text": [
      "c:\\Users\\alber\\anaconda3\\envs\\real-estate-price-prediction\\lib\\site-packages\\sklearn\\linear_model\\_coordinate_descent.py:631: ConvergenceWarning: Objective did not converge. You might want to increase the number of iterations, check the scale of the features or consider increasing regularisation. Duality gap: 4.128e+14, tolerance: 3.482e+11\n",
      "  model = cd_fast.enet_coordinate_descent(\n"
     ]
    },
    {
     "name": "stdout",
     "output_type": "stream",
     "text": [
      "RandomForestRegressor\n",
      "Model Training Performance\n",
      "RMSE: 448149.43404086307\n",
      "MAE: 148405.75498460335\n",
      "R2 score 66.63684481885863\n",
      "===================================\n",
      "\n",
      "\n",
      "xgb\n",
      "Model Training Performance\n",
      "RMSE: 431369.1247266651\n",
      "MAE: 149454.32909952375\n",
      "R2 score 69.08853947729996\n",
      "===================================\n",
      "\n",
      "\n",
      "GradientBoostRegressor\n",
      "Model Training Performance\n",
      "RMSE: 437338.80828547536\n",
      "MAE: 153483.01599437097\n",
      "R2 score 68.22705687941988\n",
      "===================================\n",
      "\n",
      "\n",
      "LGBMRegressor\n",
      "Model Training Performance\n",
      "RMSE: 488022.33369324385\n",
      "MAE: 159363.3241018718\n",
      "R2 score 60.435944206610095\n",
      "===================================\n",
      "\n",
      "\n"
     ]
    }
   ],
   "source": [
    "## Train multiple models\n",
    "\n",
    "models={\n",
    "    'LinearRegression':LinearRegression(),\n",
    "    'Lasso':Lasso(),\n",
    "    'Ridge':Ridge(),\n",
    "    'Elasticnet':ElasticNet(),\n",
    "    'RandomForestRegressor':RandomForestRegressor(),\n",
    "    'xgb':xgb.XGBRegressor(eta= 0.01, n_estimators= 1200, max_depth= 4, subsample= 0.8, colsample_bytree= 1,gamma= 1),\n",
    "    'GradientBoostRegressor':GradientBoostingRegressor(),\n",
    "    'LGBMRegressor':LGBMRegressor()\n",
    "}\n",
    "trained_model_list=[]\n",
    "model_list=[]\n",
    "r2_list=[]\n",
    "\n",
    "for i in range(len(list(models))):\n",
    "    model=list(models.values())[i]\n",
    "    model.fit(X_train,y_train.values.ravel())\n",
    "\n",
    "    #Make Predictions\n",
    "    y_pred=model.predict(X_test)\n",
    "\n",
    "    mae, rmse, r2_square=evaluate_model(y_test,y_pred)\n",
    "\n",
    "    print(list(models.keys())[i])\n",
    "    model_list.append(list(models.keys())[i])\n",
    "\n",
    "    print('Model Training Performance')\n",
    "    print(\"RMSE:\",rmse)\n",
    "    print(\"MAE:\",mae)\n",
    "    print(\"R2 score\",r2_square*100)\n",
    "\n",
    "    r2_list.append(r2_square)\n",
    "    \n",
    "    print('='*35)\n",
    "    print('\\n')\n"
   ]
  },
  {
   "cell_type": "code",
   "execution_count": 288,
   "metadata": {},
   "outputs": [
    {
     "data": {
      "text/plain": [
       "['LinearRegression',\n",
       " 'Lasso',\n",
       " 'Ridge',\n",
       " 'Elasticnet',\n",
       " 'DecisionTreeRegressor',\n",
       " 'xgb',\n",
       " 'GradientBoostRegressor',\n",
       " 'LGBMRegressor']"
      ]
     },
     "execution_count": 288,
     "metadata": {},
     "output_type": "execute_result"
    }
   ],
   "source": [
    "model_list"
   ]
  },
  {
   "cell_type": "code",
   "execution_count": 344,
   "metadata": {},
   "outputs": [],
   "source": [
    "from sklearn.model_selection import GridSearchCV"
   ]
  },
  {
   "cell_type": "code",
   "execution_count": 359,
   "metadata": {},
   "outputs": [
    {
     "name": "stdout",
     "output_type": "stream",
     "text": [
      "69.08853947729996\n"
     ]
    }
   ],
   "source": [
    "model=xgb.XGBRegressor(eta= 0.01, n_estimators= 1200, max_depth= 4, subsample= 0.8, colsample_bytree= 1,gamma= 1)\n",
    "model.fit(X_train, y_train.values.ravel())\n",
    "y_pred=model.predict(X_test)\n",
    "r2_square = r2_score(y_test, y_pred)\n",
    "print(r2_square*100)"
   ]
  },
  {
   "cell_type": "code",
   "execution_count": 346,
   "metadata": {},
   "outputs": [],
   "source": [
    "param_grid = {'max_depth': [4,6,10],\n",
    "           'eta': [0.01, 0.05, 0.1],\n",
    "           'n_estimators': [100, 500, 1000, 1500],\n",
    "           'colsample_bytree': [0.3, 0.7,1],\n",
    "           'gamma': [1, 5],\n",
    "}"
   ]
  },
  {
   "cell_type": "code",
   "execution_count": 349,
   "metadata": {},
   "outputs": [],
   "source": [
    "grid_search=GridSearchCV(estimator = model, param_grid = param_grid, cv = 10, scoring='r2')"
   ]
  },
  {
   "cell_type": "code",
   "execution_count": 350,
   "metadata": {},
   "outputs": [
    {
     "data": {
      "text/html": [
       "<style>#sk-container-id-17 {color: black;background-color: white;}#sk-container-id-17 pre{padding: 0;}#sk-container-id-17 div.sk-toggleable {background-color: white;}#sk-container-id-17 label.sk-toggleable__label {cursor: pointer;display: block;width: 100%;margin-bottom: 0;padding: 0.3em;box-sizing: border-box;text-align: center;}#sk-container-id-17 label.sk-toggleable__label-arrow:before {content: \"▸\";float: left;margin-right: 0.25em;color: #696969;}#sk-container-id-17 label.sk-toggleable__label-arrow:hover:before {color: black;}#sk-container-id-17 div.sk-estimator:hover label.sk-toggleable__label-arrow:before {color: black;}#sk-container-id-17 div.sk-toggleable__content {max-height: 0;max-width: 0;overflow: hidden;text-align: left;background-color: #f0f8ff;}#sk-container-id-17 div.sk-toggleable__content pre {margin: 0.2em;color: black;border-radius: 0.25em;background-color: #f0f8ff;}#sk-container-id-17 input.sk-toggleable__control:checked~div.sk-toggleable__content {max-height: 200px;max-width: 100%;overflow: auto;}#sk-container-id-17 input.sk-toggleable__control:checked~label.sk-toggleable__label-arrow:before {content: \"▾\";}#sk-container-id-17 div.sk-estimator input.sk-toggleable__control:checked~label.sk-toggleable__label {background-color: #d4ebff;}#sk-container-id-17 div.sk-label input.sk-toggleable__control:checked~label.sk-toggleable__label {background-color: #d4ebff;}#sk-container-id-17 input.sk-hidden--visually {border: 0;clip: rect(1px 1px 1px 1px);clip: rect(1px, 1px, 1px, 1px);height: 1px;margin: -1px;overflow: hidden;padding: 0;position: absolute;width: 1px;}#sk-container-id-17 div.sk-estimator {font-family: monospace;background-color: #f0f8ff;border: 1px dotted black;border-radius: 0.25em;box-sizing: border-box;margin-bottom: 0.5em;}#sk-container-id-17 div.sk-estimator:hover {background-color: #d4ebff;}#sk-container-id-17 div.sk-parallel-item::after {content: \"\";width: 100%;border-bottom: 1px solid gray;flex-grow: 1;}#sk-container-id-17 div.sk-label:hover label.sk-toggleable__label {background-color: #d4ebff;}#sk-container-id-17 div.sk-serial::before {content: \"\";position: absolute;border-left: 1px solid gray;box-sizing: border-box;top: 0;bottom: 0;left: 50%;z-index: 0;}#sk-container-id-17 div.sk-serial {display: flex;flex-direction: column;align-items: center;background-color: white;padding-right: 0.2em;padding-left: 0.2em;position: relative;}#sk-container-id-17 div.sk-item {position: relative;z-index: 1;}#sk-container-id-17 div.sk-parallel {display: flex;align-items: stretch;justify-content: center;background-color: white;position: relative;}#sk-container-id-17 div.sk-item::before, #sk-container-id-17 div.sk-parallel-item::before {content: \"\";position: absolute;border-left: 1px solid gray;box-sizing: border-box;top: 0;bottom: 0;left: 50%;z-index: -1;}#sk-container-id-17 div.sk-parallel-item {display: flex;flex-direction: column;z-index: 1;position: relative;background-color: white;}#sk-container-id-17 div.sk-parallel-item:first-child::after {align-self: flex-end;width: 50%;}#sk-container-id-17 div.sk-parallel-item:last-child::after {align-self: flex-start;width: 50%;}#sk-container-id-17 div.sk-parallel-item:only-child::after {width: 0;}#sk-container-id-17 div.sk-dashed-wrapped {border: 1px dashed gray;margin: 0 0.4em 0.5em 0.4em;box-sizing: border-box;padding-bottom: 0.4em;background-color: white;}#sk-container-id-17 div.sk-label label {font-family: monospace;font-weight: bold;display: inline-block;line-height: 1.2em;}#sk-container-id-17 div.sk-label-container {text-align: center;}#sk-container-id-17 div.sk-container {/* jupyter's `normalize.less` sets `[hidden] { display: none; }` but bootstrap.min.css set `[hidden] { display: none !important; }` so we also need the `!important` here to be able to override the default hidden behavior on the sphinx rendered scikit-learn.org. See: https://github.com/scikit-learn/scikit-learn/issues/21755 */display: inline-block !important;position: relative;}#sk-container-id-17 div.sk-text-repr-fallback {display: none;}</style><div id=\"sk-container-id-17\" class=\"sk-top-container\"><div class=\"sk-text-repr-fallback\"><pre>GridSearchCV(cv=10,\n",
       "             estimator=XGBRegressor(base_score=None, booster=None,\n",
       "                                    callbacks=None, colsample_bylevel=None,\n",
       "                                    colsample_bynode=None, colsample_bytree=1,\n",
       "                                    early_stopping_rounds=None,\n",
       "                                    enable_categorical=False, eta=0.01,\n",
       "                                    eval_metric=None, feature_types=None,\n",
       "                                    gamma=1, gpu_id=None, grow_policy=None,\n",
       "                                    importance_type=None,\n",
       "                                    interaction_constraints=None,\n",
       "                                    learning_rate=No...\n",
       "                                    max_cat_to_onehot=None, max_delta_step=None,\n",
       "                                    max_depth=4, max_leaves=None,\n",
       "                                    min_child_weight=None, missing=nan,\n",
       "                                    monotone_constraints=None,\n",
       "                                    n_estimators=1200, n_jobs=None,\n",
       "                                    num_parallel_tree=None, predictor=None, ...),\n",
       "             param_grid={&#x27;colsample_bytree&#x27;: [0.3, 0.7, 1],\n",
       "                         &#x27;eta&#x27;: [0.01, 0.05, 0.1], &#x27;gamma&#x27;: [1, 5, 10],\n",
       "                         &#x27;max_depth&#x27;: [3, 4, 6, 10],\n",
       "                         &#x27;n_estimators&#x27;: [100, 500, 1000, 1200, 1500],\n",
       "                         &#x27;subsample&#x27;: [0.8, 1]},\n",
       "             scoring=&#x27;r2&#x27;)</pre><b>In a Jupyter environment, please rerun this cell to show the HTML representation or trust the notebook. <br />On GitHub, the HTML representation is unable to render, please try loading this page with nbviewer.org.</b></div><div class=\"sk-container\" hidden><div class=\"sk-item sk-dashed-wrapped\"><div class=\"sk-label-container\"><div class=\"sk-label sk-toggleable\"><input class=\"sk-toggleable__control sk-hidden--visually\" id=\"sk-estimator-id-31\" type=\"checkbox\" ><label for=\"sk-estimator-id-31\" class=\"sk-toggleable__label sk-toggleable__label-arrow\">GridSearchCV</label><div class=\"sk-toggleable__content\"><pre>GridSearchCV(cv=10,\n",
       "             estimator=XGBRegressor(base_score=None, booster=None,\n",
       "                                    callbacks=None, colsample_bylevel=None,\n",
       "                                    colsample_bynode=None, colsample_bytree=1,\n",
       "                                    early_stopping_rounds=None,\n",
       "                                    enable_categorical=False, eta=0.01,\n",
       "                                    eval_metric=None, feature_types=None,\n",
       "                                    gamma=1, gpu_id=None, grow_policy=None,\n",
       "                                    importance_type=None,\n",
       "                                    interaction_constraints=None,\n",
       "                                    learning_rate=No...\n",
       "                                    max_cat_to_onehot=None, max_delta_step=None,\n",
       "                                    max_depth=4, max_leaves=None,\n",
       "                                    min_child_weight=None, missing=nan,\n",
       "                                    monotone_constraints=None,\n",
       "                                    n_estimators=1200, n_jobs=None,\n",
       "                                    num_parallel_tree=None, predictor=None, ...),\n",
       "             param_grid={&#x27;colsample_bytree&#x27;: [0.3, 0.7, 1],\n",
       "                         &#x27;eta&#x27;: [0.01, 0.05, 0.1], &#x27;gamma&#x27;: [1, 5, 10],\n",
       "                         &#x27;max_depth&#x27;: [3, 4, 6, 10],\n",
       "                         &#x27;n_estimators&#x27;: [100, 500, 1000, 1200, 1500],\n",
       "                         &#x27;subsample&#x27;: [0.8, 1]},\n",
       "             scoring=&#x27;r2&#x27;)</pre></div></div></div><div class=\"sk-parallel\"><div class=\"sk-parallel-item\"><div class=\"sk-item\"><div class=\"sk-label-container\"><div class=\"sk-label sk-toggleable\"><input class=\"sk-toggleable__control sk-hidden--visually\" id=\"sk-estimator-id-32\" type=\"checkbox\" ><label for=\"sk-estimator-id-32\" class=\"sk-toggleable__label sk-toggleable__label-arrow\">estimator: XGBRegressor</label><div class=\"sk-toggleable__content\"><pre>XGBRegressor(base_score=None, booster=None, callbacks=None,\n",
       "             colsample_bylevel=None, colsample_bynode=None, colsample_bytree=1,\n",
       "             early_stopping_rounds=None, enable_categorical=False, eta=0.01,\n",
       "             eval_metric=None, feature_types=None, gamma=1, gpu_id=None,\n",
       "             grow_policy=None, importance_type=None,\n",
       "             interaction_constraints=None, learning_rate=None, max_bin=None,\n",
       "             max_cat_threshold=None, max_cat_to_onehot=None,\n",
       "             max_delta_step=None, max_depth=4, max_leaves=None,\n",
       "             min_child_weight=None, missing=nan, monotone_constraints=None,\n",
       "             n_estimators=1200, n_jobs=None, num_parallel_tree=None,\n",
       "             predictor=None, ...)</pre></div></div></div><div class=\"sk-serial\"><div class=\"sk-item\"><div class=\"sk-estimator sk-toggleable\"><input class=\"sk-toggleable__control sk-hidden--visually\" id=\"sk-estimator-id-33\" type=\"checkbox\" ><label for=\"sk-estimator-id-33\" class=\"sk-toggleable__label sk-toggleable__label-arrow\">XGBRegressor</label><div class=\"sk-toggleable__content\"><pre>XGBRegressor(base_score=None, booster=None, callbacks=None,\n",
       "             colsample_bylevel=None, colsample_bynode=None, colsample_bytree=1,\n",
       "             early_stopping_rounds=None, enable_categorical=False, eta=0.01,\n",
       "             eval_metric=None, feature_types=None, gamma=1, gpu_id=None,\n",
       "             grow_policy=None, importance_type=None,\n",
       "             interaction_constraints=None, learning_rate=None, max_bin=None,\n",
       "             max_cat_threshold=None, max_cat_to_onehot=None,\n",
       "             max_delta_step=None, max_depth=4, max_leaves=None,\n",
       "             min_child_weight=None, missing=nan, monotone_constraints=None,\n",
       "             n_estimators=1200, n_jobs=None, num_parallel_tree=None,\n",
       "             predictor=None, ...)</pre></div></div></div></div></div></div></div></div></div></div>"
      ],
      "text/plain": [
       "GridSearchCV(cv=10,\n",
       "             estimator=XGBRegressor(base_score=None, booster=None,\n",
       "                                    callbacks=None, colsample_bylevel=None,\n",
       "                                    colsample_bynode=None, colsample_bytree=1,\n",
       "                                    early_stopping_rounds=None,\n",
       "                                    enable_categorical=False, eta=0.01,\n",
       "                                    eval_metric=None, feature_types=None,\n",
       "                                    gamma=1, gpu_id=None, grow_policy=None,\n",
       "                                    importance_type=None,\n",
       "                                    interaction_constraints=None,\n",
       "                                    learning_rate=No...\n",
       "                                    max_cat_to_onehot=None, max_delta_step=None,\n",
       "                                    max_depth=4, max_leaves=None,\n",
       "                                    min_child_weight=None, missing=nan,\n",
       "                                    monotone_constraints=None,\n",
       "                                    n_estimators=1200, n_jobs=None,\n",
       "                                    num_parallel_tree=None, predictor=None, ...),\n",
       "             param_grid={'colsample_bytree': [0.3, 0.7, 1],\n",
       "                         'eta': [0.01, 0.05, 0.1], 'gamma': [1, 5, 10],\n",
       "                         'max_depth': [3, 4, 6, 10],\n",
       "                         'n_estimators': [100, 500, 1000, 1200, 1500],\n",
       "                         'subsample': [0.8, 1]},\n",
       "             scoring='r2')"
      ]
     },
     "execution_count": 350,
     "metadata": {},
     "output_type": "execute_result"
    }
   ],
   "source": [
    "grid_search.fit(X_train,y_train)"
   ]
  },
  {
   "cell_type": "code",
   "execution_count": 357,
   "metadata": {},
   "outputs": [
    {
     "data": {
      "text/plain": [
       "{'colsample_bytree': 0.7,\n",
       " 'eta': 0.01,\n",
       " 'gamma': 1,\n",
       " 'max_depth': 6,\n",
       " 'n_estimators': 1500,\n",
       " 'subsample': 1}"
      ]
     },
     "execution_count": 357,
     "metadata": {},
     "output_type": "execute_result"
    }
   ],
   "source": [
    "grid_search.best_params_"
   ]
  },
  {
   "cell_type": "code",
   "execution_count": 352,
   "metadata": {},
   "outputs": [
    {
     "data": {
      "text/html": [
       "<style>#sk-container-id-18 {color: black;background-color: white;}#sk-container-id-18 pre{padding: 0;}#sk-container-id-18 div.sk-toggleable {background-color: white;}#sk-container-id-18 label.sk-toggleable__label {cursor: pointer;display: block;width: 100%;margin-bottom: 0;padding: 0.3em;box-sizing: border-box;text-align: center;}#sk-container-id-18 label.sk-toggleable__label-arrow:before {content: \"▸\";float: left;margin-right: 0.25em;color: #696969;}#sk-container-id-18 label.sk-toggleable__label-arrow:hover:before {color: black;}#sk-container-id-18 div.sk-estimator:hover label.sk-toggleable__label-arrow:before {color: black;}#sk-container-id-18 div.sk-toggleable__content {max-height: 0;max-width: 0;overflow: hidden;text-align: left;background-color: #f0f8ff;}#sk-container-id-18 div.sk-toggleable__content pre {margin: 0.2em;color: black;border-radius: 0.25em;background-color: #f0f8ff;}#sk-container-id-18 input.sk-toggleable__control:checked~div.sk-toggleable__content {max-height: 200px;max-width: 100%;overflow: auto;}#sk-container-id-18 input.sk-toggleable__control:checked~label.sk-toggleable__label-arrow:before {content: \"▾\";}#sk-container-id-18 div.sk-estimator input.sk-toggleable__control:checked~label.sk-toggleable__label {background-color: #d4ebff;}#sk-container-id-18 div.sk-label input.sk-toggleable__control:checked~label.sk-toggleable__label {background-color: #d4ebff;}#sk-container-id-18 input.sk-hidden--visually {border: 0;clip: rect(1px 1px 1px 1px);clip: rect(1px, 1px, 1px, 1px);height: 1px;margin: -1px;overflow: hidden;padding: 0;position: absolute;width: 1px;}#sk-container-id-18 div.sk-estimator {font-family: monospace;background-color: #f0f8ff;border: 1px dotted black;border-radius: 0.25em;box-sizing: border-box;margin-bottom: 0.5em;}#sk-container-id-18 div.sk-estimator:hover {background-color: #d4ebff;}#sk-container-id-18 div.sk-parallel-item::after {content: \"\";width: 100%;border-bottom: 1px solid gray;flex-grow: 1;}#sk-container-id-18 div.sk-label:hover label.sk-toggleable__label {background-color: #d4ebff;}#sk-container-id-18 div.sk-serial::before {content: \"\";position: absolute;border-left: 1px solid gray;box-sizing: border-box;top: 0;bottom: 0;left: 50%;z-index: 0;}#sk-container-id-18 div.sk-serial {display: flex;flex-direction: column;align-items: center;background-color: white;padding-right: 0.2em;padding-left: 0.2em;position: relative;}#sk-container-id-18 div.sk-item {position: relative;z-index: 1;}#sk-container-id-18 div.sk-parallel {display: flex;align-items: stretch;justify-content: center;background-color: white;position: relative;}#sk-container-id-18 div.sk-item::before, #sk-container-id-18 div.sk-parallel-item::before {content: \"\";position: absolute;border-left: 1px solid gray;box-sizing: border-box;top: 0;bottom: 0;left: 50%;z-index: -1;}#sk-container-id-18 div.sk-parallel-item {display: flex;flex-direction: column;z-index: 1;position: relative;background-color: white;}#sk-container-id-18 div.sk-parallel-item:first-child::after {align-self: flex-end;width: 50%;}#sk-container-id-18 div.sk-parallel-item:last-child::after {align-self: flex-start;width: 50%;}#sk-container-id-18 div.sk-parallel-item:only-child::after {width: 0;}#sk-container-id-18 div.sk-dashed-wrapped {border: 1px dashed gray;margin: 0 0.4em 0.5em 0.4em;box-sizing: border-box;padding-bottom: 0.4em;background-color: white;}#sk-container-id-18 div.sk-label label {font-family: monospace;font-weight: bold;display: inline-block;line-height: 1.2em;}#sk-container-id-18 div.sk-label-container {text-align: center;}#sk-container-id-18 div.sk-container {/* jupyter's `normalize.less` sets `[hidden] { display: none; }` but bootstrap.min.css set `[hidden] { display: none !important; }` so we also need the `!important` here to be able to override the default hidden behavior on the sphinx rendered scikit-learn.org. See: https://github.com/scikit-learn/scikit-learn/issues/21755 */display: inline-block !important;position: relative;}#sk-container-id-18 div.sk-text-repr-fallback {display: none;}</style><div id=\"sk-container-id-18\" class=\"sk-top-container\"><div class=\"sk-text-repr-fallback\"><pre>XGBRegressor(base_score=None, booster=None, callbacks=None,\n",
       "             colsample_bylevel=None, colsample_bynode=None,\n",
       "             colsample_bytree=0.7, early_stopping_rounds=None,\n",
       "             enable_categorical=False, eta=0.01, eval_metric=None,\n",
       "             feature_types=None, gamma=1, gpu_id=None, grow_policy=None,\n",
       "             importance_type=None, interaction_constraints=None,\n",
       "             learning_rate=None, max_bin=None, max_cat_threshold=None,\n",
       "             max_cat_to_onehot=None, max_delta_step=None, max_depth=6,\n",
       "             max_leaves=None, min_child_weight=None, missing=nan,\n",
       "             monotone_constraints=None, n_estimators=1500, n_jobs=None,\n",
       "             num_parallel_tree=None, predictor=None, ...)</pre><b>In a Jupyter environment, please rerun this cell to show the HTML representation or trust the notebook. <br />On GitHub, the HTML representation is unable to render, please try loading this page with nbviewer.org.</b></div><div class=\"sk-container\" hidden><div class=\"sk-item\"><div class=\"sk-estimator sk-toggleable\"><input class=\"sk-toggleable__control sk-hidden--visually\" id=\"sk-estimator-id-34\" type=\"checkbox\" checked><label for=\"sk-estimator-id-34\" class=\"sk-toggleable__label sk-toggleable__label-arrow\">XGBRegressor</label><div class=\"sk-toggleable__content\"><pre>XGBRegressor(base_score=None, booster=None, callbacks=None,\n",
       "             colsample_bylevel=None, colsample_bynode=None,\n",
       "             colsample_bytree=0.7, early_stopping_rounds=None,\n",
       "             enable_categorical=False, eta=0.01, eval_metric=None,\n",
       "             feature_types=None, gamma=1, gpu_id=None, grow_policy=None,\n",
       "             importance_type=None, interaction_constraints=None,\n",
       "             learning_rate=None, max_bin=None, max_cat_threshold=None,\n",
       "             max_cat_to_onehot=None, max_delta_step=None, max_depth=6,\n",
       "             max_leaves=None, min_child_weight=None, missing=nan,\n",
       "             monotone_constraints=None, n_estimators=1500, n_jobs=None,\n",
       "             num_parallel_tree=None, predictor=None, ...)</pre></div></div></div></div></div>"
      ],
      "text/plain": [
       "XGBRegressor(base_score=None, booster=None, callbacks=None,\n",
       "             colsample_bylevel=None, colsample_bynode=None,\n",
       "             colsample_bytree=0.7, early_stopping_rounds=None,\n",
       "             enable_categorical=False, eta=0.01, eval_metric=None,\n",
       "             feature_types=None, gamma=1, gpu_id=None, grow_policy=None,\n",
       "             importance_type=None, interaction_constraints=None,\n",
       "             learning_rate=None, max_bin=None, max_cat_threshold=None,\n",
       "             max_cat_to_onehot=None, max_delta_step=None, max_depth=6,\n",
       "             max_leaves=None, min_child_weight=None, missing=nan,\n",
       "             monotone_constraints=None, n_estimators=1500, n_jobs=None,\n",
       "             num_parallel_tree=None, predictor=None, ...)"
      ]
     },
     "execution_count": 352,
     "metadata": {},
     "output_type": "execute_result"
    }
   ],
   "source": [
    "grid_search.best_estimator_"
   ]
  },
  {
   "cell_type": "code",
   "execution_count": 353,
   "metadata": {},
   "outputs": [],
   "source": [
    "best_estim=grid_search.best_estimator_"
   ]
  },
  {
   "cell_type": "code",
   "execution_count": 354,
   "metadata": {},
   "outputs": [
    {
     "name": "stdout",
     "output_type": "stream",
     "text": [
      "64.20453851112585\n"
     ]
    }
   ],
   "source": [
    "best_estim.fit(X_train,y_train)\n",
    "y_pred=best_estim.predict(X_test)\n",
    "r2_square = r2_score(y_test, y_pred)\n",
    "print(r2_square*100)"
   ]
  },
  {
   "cell_type": "code",
   "execution_count": 355,
   "metadata": {},
   "outputs": [],
   "source": [
    "model_2=xgb.XGBRegressor(colsample_bytree= 0.7,\n",
    " learning_rate= 0.1,\n",
    " max_depth= 10,\n",
    " n_estimators= 100,\n",
    " subsample=1,\n",
    " gamma=1)\n",
    "model_2.fit(X_train,y_train)\n",
    "y_pred=model_2.predict(X_test)\n",
    "r2_square = r2_score(y_test, y_pred)"
   ]
  },
  {
   "cell_type": "code",
   "execution_count": 356,
   "metadata": {},
   "outputs": [
    {
     "name": "stdout",
     "output_type": "stream",
     "text": [
      "67.13500131214161\n"
     ]
    }
   ],
   "source": [
    "print(r2_square*100)"
   ]
  },
  {
   "cell_type": "code",
   "execution_count": null,
   "metadata": {},
   "outputs": [],
   "source": []
  },
  {
   "cell_type": "code",
   "execution_count": null,
   "metadata": {},
   "outputs": [],
   "source": []
  }
 ],
 "metadata": {
  "kernelspec": {
   "display_name": "real-estate-price-prediction",
   "language": "python",
   "name": "python3"
  },
  "language_info": {
   "codemirror_mode": {
    "name": "ipython",
    "version": 3
   },
   "file_extension": ".py",
   "mimetype": "text/x-python",
   "name": "python",
   "nbconvert_exporter": "python",
   "pygments_lexer": "ipython3",
   "version": "3.8.0"
  },
  "orig_nbformat": 4
 },
 "nbformat": 4,
 "nbformat_minor": 2
}
